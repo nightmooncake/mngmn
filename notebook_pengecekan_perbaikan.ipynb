{
 "cells": [
  {
   "cell_type": "markdown",
   "id": "022faf73",
   "metadata": {},
   "source": [
    "# Notebook untuk Pengecekan dan Perbaikan Data\n",
    "\n",
    "Notebook ini digunakan untuk melakukan pengecekan dan perbaikan data menggunakan Python. Setiap langkah akan dijelaskan secara bertahap sesuai outline berikut:\n",
    "\n",
    "1. Impor Library yang Dibutuhkan\n",
    "2. Membaca dan Mengecek Data\n",
    "3. Pengecekan Nilai Hilang\n",
    "4. Pengecekan dan Perbaikan Tipe Data\n",
    "5. Pengecekan dan Penanganan Outlier\n",
    "6. Perbaikan Data Tidak Konsisten\n",
    "7. Menyimpan Data yang Telah Diperbaiki"
   ]
  },
  {
   "cell_type": "markdown",
   "id": "7b408dc2",
   "metadata": {},
   "source": [
    "## 1. Impor Library yang Dibutuhkan\n",
    "Impor library seperti pandas dan numpy yang akan digunakan untuk analisis dan perbaikan data."
   ]
  },
  {
   "cell_type": "code",
   "execution_count": null,
   "id": "c049d1d2",
   "metadata": {},
   "outputs": [],
   "source": [
    "import pandas as pd\n",
    "import numpy as np"
   ]
  },
  {
   "cell_type": "markdown",
   "id": "a8598ca9",
   "metadata": {},
   "source": [
    "## 2. Membaca dan Mengecek Data\n",
    "Baca dataset menggunakan pandas dan tampilkan beberapa baris pertama untuk memastikan data terbaca dengan benar."
   ]
  },
  {
   "cell_type": "code",
   "execution_count": null,
   "id": "a2101647",
   "metadata": {},
   "outputs": [],
   "source": [
    "# Ganti 'data.csv' dengan nama file dataset Anda\n",
    "# df = pd.read_csv('data.csv')\n",
    "# df.head()\n",
    "\n",
    "# Contoh dummy jika belum ada file\n",
    "sample_data = {\n",
    "    'nama': ['A', 'B', 'C', 'D'],\n",
    "    'nilai': [90, 85, np.nan, 100],\n",
    "    'kategori': ['baik', 'baik', 'buruk', 'baik']\n",
    "}\n",
    "df = pd.DataFrame(sample_data)\n",
    "df.head()"
   ]
  },
  {
   "cell_type": "markdown",
   "id": "9dbcc826",
   "metadata": {},
   "source": [
    "## 3. Pengecekan Nilai Hilang\n",
    "Cek apakah terdapat nilai hilang pada dataset dan tampilkan jumlahnya per kolom."
   ]
  },
  {
   "cell_type": "code",
   "execution_count": null,
   "id": "8cf8a337",
   "metadata": {},
   "outputs": [],
   "source": [
    "df.isnull().sum()"
   ]
  },
  {
   "cell_type": "markdown",
   "id": "ef55be94",
   "metadata": {},
   "source": [
    "## 4. Pengecekan dan Perbaikan Tipe Data\n",
    "Periksa tipe data setiap kolom dan lakukan konversi tipe data jika diperlukan."
   ]
  },
  {
   "cell_type": "code",
   "execution_count": null,
   "id": "6e462c76",
   "metadata": {},
   "outputs": [],
   "source": [
    "df.dtypes\n",
    "# Contoh konversi tipe data jika diperlukan\n",
    "# df['nilai'] = df['nilai'].astype(float)"
   ]
  },
  {
   "cell_type": "markdown",
   "id": "6e3653d2",
   "metadata": {},
   "source": [
    "## 5. Pengecekan dan Penanganan Outlier\n",
    "Identifikasi outlier pada data numerik dan lakukan penanganan seperti menghapus atau mengganti nilai outlier."
   ]
  },
  {
   "cell_type": "code",
   "execution_count": null,
   "id": "a2b21427",
   "metadata": {},
   "outputs": [],
   "source": [
    "# Contoh deteksi outlier dengan IQR\n",
    "def detect_outliers_iqr(data, column):\n",
    "    Q1 = data[column].quantile(0.25)\n",
    "    Q3 = data[column].quantile(0.75)\n",
    "    IQR = Q3 - Q1\n",
    "    lower = Q1 - 1.5 * IQR\n",
    "    upper = Q3 + 1.5 * IQR\n",
    "    return data[(data[column] < lower) | (data[column] > upper)]\n",
    "\n",
    "outliers = detect_outliers_iqr(df, 'nilai')\n",
    "outliers"
   ]
  },
  {
   "cell_type": "markdown",
   "id": "a673f8b3",
   "metadata": {},
   "source": [
    "## 6. Perbaikan Data Tidak Konsisten\n",
    "Cari dan perbaiki data yang tidak konsisten, misalnya penulisan kategori yang berbeda untuk makna yang sama."
   ]
  },
  {
   "cell_type": "code",
   "execution_count": null,
   "id": "5d685820",
   "metadata": {},
   "outputs": [],
   "source": [
    "# Contoh normalisasi kategori\n",
    "df['kategori'] = df['kategori'].replace({'buruk': 'tidak baik', 'baik': 'baik'})\n",
    "df['kategori'].unique()"
   ]
  },
  {
   "cell_type": "markdown",
   "id": "b43f75b7",
   "metadata": {},
   "source": [
    "## 7. Menyimpan Data yang Telah Diperbaiki\n",
    "Simpan dataset yang sudah diperbaiki ke file baru untuk digunakan pada proses selanjutnya."
   ]
  },
  {
   "cell_type": "code",
   "execution_count": null,
   "id": "6fc82e17",
   "metadata": {},
   "outputs": [],
   "source": [
    "# Simpan ke file baru\n",
    "df.to_csv('data_bersih.csv', index=False)\n",
    "print('Data telah disimpan ke data_bersih.csv')"
   ]
  }
 ],
 "metadata": {
  "language_info": {
   "name": "python"
  }
 },
 "nbformat": 4,
 "nbformat_minor": 5
}
